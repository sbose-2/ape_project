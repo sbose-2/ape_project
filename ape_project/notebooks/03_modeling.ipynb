{
 "cells": [
  {
   "cell_type": "markdown",
   "id": "410809f1",
   "metadata": {},
   "source": [
    "# 03_modeling\n",
    "Fit mixed-effects models and Cox proportional hazards models.\n"
   ]
  },
  {
   "cell_type": "code",
   "execution_count": null,
   "id": "dc1e93cd",
   "metadata": {
    "vscode": {
     "languageId": "plaintext"
    }
   },
   "outputs": [],
   "source": [
    "import os, sys\n",
    "repo_root = os.path.abspath(os.path.join(os.getcwd(), \"..\"))\n",
    "src_path = os.path.join(repo_root, \"src\")\n",
    "if src_path not in sys.path:\n",
    "    sys.path.insert(0, src_path)\n",
    "\n",
    "import pandas as pd\n",
    "from stats_utils import fit_mixedlm, fit_coxph\n",
    "from data_utils import load_csv\n"
   ]
  },
  {
   "cell_type": "code",
   "execution_count": null,
   "id": "886a1f48",
   "metadata": {
    "vscode": {
     "languageId": "plaintext"
    }
   },
   "outputs": [],
   "source": [
    "PROCESSED_DIR = os.path.join(repo_root, \"data\", \"processed\")\n",
    "df_clin = pd.read_csv(os.path.join(PROCESSED_DIR, \"clinical_cleaned.csv\"))\n",
    "df_surv = pd.read_csv(os.path.join(PROCESSED_DIR, \"survival_cleaned.csv\"))\n"
   ]
  },
  {
   "cell_type": "code",
   "execution_count": null,
   "id": "6b57b9d0",
   "metadata": {
    "vscode": {
     "languageId": "plaintext"
    }
   },
   "outputs": [],
   "source": [
    "# Mixed effects: example formula 'weight ~ day * group'\n",
    "# Ensure columns exist, otherwise adapt formula\n",
    "if set([\"weight\",\"day\",\"group\",\"animalid\"]).issubset(df_clin.columns):\n",
    "    res = fit_mixedlm(df_clin, formula=\"weight ~ day * group\", group_col=\"animalid\", re_formula=\"~day\")\n",
    "    print(res.summary())\n",
    "else:\n",
    "    print(\"Columns required for mixed model not present. Columns:\", df_clin.columns.tolist())\n"
   ]
  },
  {
   "cell_type": "code",
   "execution_count": null,
   "id": "bb3ed2f4",
   "metadata": {
    "vscode": {
     "languageId": "plaintext"
    }
   },
   "outputs": [],
   "source": [
    "# Cox PH: need duration & event + possible covariates (e.g., group)\n",
    "if set([\"time\",\"event\"]).issubset(df_surv.columns):\n",
    "    # create dummy variables for categorical covariates if needed\n",
    "    df_for_cox = df_surv.copy()\n",
    "    if \"group\" in df_for_cox.columns:\n",
    "        df_for_cox = pd.get_dummies(df_for_cox, columns=[\"group\"], drop_first=True)\n",
    "    covars = [c for c in df_for_cox.columns if c not in [\"time\",\"event\",\"animalid\"]]\n",
    "    print(\"Fitting Cox with covariates:\", covars)\n",
    "    cph = fit_coxph(df_for_cox, duration_col=\"time\", event_col=\"event\", covariates=covars)\n",
    "    print(cph.summary)\n",
    "else:\n",
    "    print(\"Survival columns missing; columns:\", df_surv.columns.tolist())\n"
   ]
  },
  {
   "cell_type": "markdown",
   "id": "d3f32cb4",
   "metadata": {},
   "source": [
    "## Next steps / saving results\n",
    "- Save model summaries to text files or export coefficients.\n",
    "- Create a results table with hazard ratios and CI for the manuscript.\n"
   ]
  }
 ],
 "metadata": {
  "language_info": {
   "name": "python"
  }
 },
 "nbformat": 4,
 "nbformat_minor": 5
}
