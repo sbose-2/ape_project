{
 "cells": [
  {
   "cell_type": "markdown",
   "id": "71c02b95",
   "metadata": {},
   "source": [
    "# 01_data_cleaning\n",
    "This notebook:\n",
    "- Sets up paths and imports\n",
    "- Loads raw data\n",
    "- Demonstrates cleaning functions from `src/data_utils.py`\n",
    "- Saves cleaned / processed files into `data/processed/`\n"
   ]
  },
  {
   "cell_type": "code",
   "execution_count": null,
   "id": "19618398",
   "metadata": {
    "vscode": {
     "languageId": "plaintext"
    }
   },
   "outputs": [],
   "source": [
    "# Set up paths and ensure src is importable\n",
    "import os, sys\n",
    "repo_root = os.path.abspath(os.path.join(os.getcwd(), \"..\"))  # adjust if needed\n",
    "src_path = os.path.join(repo_root, \"src\")\n",
    "if src_path not in sys.path:\n",
    "    sys.path.insert(0, src_path)\n",
    "\n",
    "print(\"repo_root:\", repo_root)\n",
    "print(\"src_path:\", src_path)\n"
   ]
  },
  {
   "cell_type": "code",
   "execution_count": null,
   "id": "0839bf6f",
   "metadata": {
    "vscode": {
     "languageId": "plaintext"
    }
   },
   "outputs": [],
   "source": [
    "# Core imports\n",
    "import pandas as pd\n",
    "from data_utils import load_csv, save_csv, standardize_columns, ensure_animal_and_day, merge_on_animal_day, summarize_df\n",
    "\n",
    "# Paths\n",
    "RAW_DIR = os.path.join(repo_root, \"data\", \"raw\")\n",
    "PROCESSED_DIR = os.path.join(repo_root, \"data\", \"processed\")\n",
    "os.makedirs(RAW_DIR, exist_ok=True)\n",
    "os.makedirs(PROCESSED_DIR, exist_ok=True)\n"
   ]
  },
  {
   "cell_type": "markdown",
   "id": "b703ffad",
   "metadata": {},
   "source": [
    "## If you already have files:\n",
    "Place your raw CSV/XLSX files in `data/raw/`. Common filenames:\n",
    "- pr8_clinical.csv\n",
    "- pr8_survival.csv\n",
    "- bleo_histology.csv\n",
    "- immune_panel.csv\n"
   ]
  },
  {
   "cell_type": "code",
   "execution_count": null,
   "id": "ceba26e2",
   "metadata": {
    "vscode": {
     "languageId": "plaintext"
    }
   },
   "outputs": [],
   "source": [
    "# Optional: create small synthetic example datasets to test the pipeline\n",
    "df_clinical = pd.DataFrame({\n",
    "    \"AnimalID\": [f\"A{i}\" for i in range(1,9)],\n",
    "    \"Group\": [\"PR8\"]*4 + [\"Bleo\"]*4,\n",
    "    \"Day\": [0,1,2,3,0,1,2,3],\n",
    "    \"Weight\": [20.1,19.5,18.9,18.2,20.5,20.0,19.5,19.0]\n",
    "}).explode([\"Day\",\"Weight\"])  # quick demo may repeat; not perfect but fine for test\n",
    "\n",
    "# Simpler synthetic survival dataset\n",
    "df_surv = pd.DataFrame({\n",
    "    \"AnimalID\": [f\"A{i}\" for i in range(1,9)],\n",
    "    \"Group\": [\"PR8\"]*4 + [\"Bleo\"]*4,\n",
    "    \"time\": [5,6,7,8,3,4,9,10],\n",
    "    \"event\": [1,1,0,1,1,0,1,1]\n",
    "})\n",
    "\n",
    "# Save synthetic raw\n",
    "df_clinical.to_csv(os.path.join(RAW_DIR, \"demo_clinical.csv\"), index=False)\n",
    "df_surv.to_csv(os.path.join(RAW_DIR, \"demo_survival.csv\"), index=False)\n",
    "\n",
    "print(\"Wrote demo files to:\", RAW_DIR)\n"
   ]
  },
  {
   "cell_type": "code",
   "execution_count": null,
   "id": "a3edf6e1",
   "metadata": {
    "vscode": {
     "languageId": "plaintext"
    }
   },
   "outputs": [],
   "source": [
    "# Example: load your raw file(s)\n",
    "clinical_path = os.path.join(RAW_DIR, \"demo_clinical.csv\")  # replace with your filename\n",
    "survival_path = os.path.join(RAW_DIR, \"demo_survival.csv\")\n",
    "\n",
    "df_clin = load_csv(clinical_path)\n",
    "df_surv = load_csv(survival_path)\n",
    "\n",
    "# Standardize column names\n",
    "df_clin = standardize_columns(df_clin)\n",
    "df_surv = standardize_columns(df_surv)\n",
    "\n",
    "# Ensure ID and day are typed appropriately (if present)\n",
    "df_clin = ensure_animal_and_day(df_clin, id_col=\"animalid\", day_col=\"day\")\n",
    "df_surv = ensure_animal_and_day(df_surv, id_col=\"animalid\", day_col=\"time\")\n",
    "\n",
    "# Quick summaries\n",
    "print(\"Clinical summary:\", summarize_df(df_clin))\n",
    "print(\"Survival summary:\", summarize_df(df_surv))\n",
    "\n",
    "# Save processed versions\n",
    "save_csv(df_clin, os.path.join(PROCESSED_DIR, \"clinical_cleaned.csv\"))\n",
    "save_csv(df_surv, os.path.join(PROCESSED_DIR, \"survival_cleaned.csv\"))\n",
    "\n",
    "print(\"Saved cleaned files to:\", PROCESSED_DIR)\n"
   ]
  }
 ],
 "metadata": {
  "language_info": {
   "name": "python"
  }
 },
 "nbformat": 4,
 "nbformat_minor": 5
}
