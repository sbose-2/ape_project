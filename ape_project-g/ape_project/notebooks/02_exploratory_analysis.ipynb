{
 "cells": [
  {
   "cell_type": "markdown",
   "id": "99c0e26d",
   "metadata": {},
   "source": [
    "# 02_exploratory_analysis\n",
    "Exploratory plots and descriptive summaries.\n"
   ]
  },
  {
   "cell_type": "code",
   "execution_count": null,
   "id": "def24509",
   "metadata": {
    "vscode": {
     "languageId": "plaintext"
    }
   },
   "outputs": [],
   "source": [
    "import os, sys\n",
    "repo_root = os.path.abspath(os.path.join(os.getcwd(), \"..\"))\n",
    "src_path = os.path.join(repo_root, \"src\")\n",
    "if src_path not in sys.path:\n",
    "    sys.path.insert(0, src_path)\n",
    "\n",
    "import pandas as pd\n",
    "from data_utils import load_csv\n",
    "from viz_utils import plot_timecourse, plot_group_boxplot\n"
   ]
  },
  {
   "cell_type": "code",
   "execution_count": null,
   "id": "915e56d8",
   "metadata": {
    "vscode": {
     "languageId": "plaintext"
    }
   },
   "outputs": [],
   "source": [
    "PROCESSED_DIR = os.path.join(repo_root, \"data\", \"processed\")\n",
    "clinical_fp = os.path.join(PROCESSED_DIR, \"clinical_cleaned.csv\")\n",
    "survival_fp = os.path.join(PROCESSED_DIR, \"survival_cleaned.csv\")\n",
    "\n",
    "df_clin = pd.read_csv(clinical_fp)\n",
    "df_surv = pd.read_csv(survival_fp)\n",
    "print(\"clinical:\", df_clin.shape, \"survival:\", df_surv.shape)\n",
    "df_clin.head()\n"
   ]
  },
  {
   "cell_type": "code",
   "execution_count": null,
   "id": "4d4cbb90",
   "metadata": {
    "vscode": {
     "languageId": "plaintext"
    }
   },
   "outputs": [],
   "source": [
    "# For the demo data the columns might be animalid, group, day, weight or similar\n",
    "# If your file has different column names, adjust arguments below.\n",
    "# Prepare a long-form dataframe for plotting\n",
    "if \"weight\" in df_clin.columns:\n",
    "    plot_timecourse(df_clin, x=\"day\", y=\"weight\", hue=\"group\", title=\"Weight time-course (mean ± SD)\",\n",
    "                    savepath=os.path.join(repo_root, \"results\", \"figures\", \"weight_timecourse.png\"))\n",
    "else:\n",
    "    print(\"No 'weight' column in clinical file. Head columns:\", df_clin.columns.tolist())\n"
   ]
  },
  {
   "cell_type": "code",
   "execution_count": null,
   "id": "1bd9feb3",
   "metadata": {
    "vscode": {
     "languageId": "plaintext"
    }
   },
   "outputs": [],
   "source": [
    "# Example: plot distribution of a variable across groups\n",
    "val_col = \"weight\" if \"weight\" in df_clin.columns else df_clin.columns[-1]\n",
    "plot_group_boxplot(df_clin, x=\"group\", y=val_col, title=f\"{val_col} by group\",\n",
    "                   savepath=os.path.join(repo_root, \"results\", \"figures\", f\"{val_col}_by_group.png\"))\n"
   ]
  },
  {
   "cell_type": "code",
   "execution_count": null,
   "id": "fe67e607",
   "metadata": {
    "vscode": {
     "languageId": "plaintext"
    }
   },
   "outputs": [],
   "source": [
    "from stats_utils import build_km_by_group\n",
    "from viz_utils import plot_km\n",
    "\n",
    "km_dict = build_km_by_group(df_surv, time_col=\"time\", event_col=\"event\", group_col=\"group\")\n",
    "plot_km(km_dict, title=\"Kaplan-Meier: demo groups\",\n",
    "        savepath=os.path.join(repo_root, \"results\", \"figures\", \"km_demo.png\"))\n"
   ]
  }
 ],
 "metadata": {
  "language_info": {
   "name": "python"
  }
 },
 "nbformat": 4,
 "nbformat_minor": 5
}
